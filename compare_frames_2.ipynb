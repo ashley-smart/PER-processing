{
 "cells": [
  {
   "cell_type": "code",
   "execution_count": 3,
   "metadata": {},
   "outputs": [],
   "source": [
    "## to compare individual video frames and see if there are any duplicates. \n",
    "\n",
    "import math\n",
    "import csv \n",
    "import numpy as np\n",
    "from matplotlib import pyplot as plt\n",
    "from matplotlib import path\n",
    "import scipy as scipy\n",
    "import scipy.io\n",
    "import cv2\n",
    "\n",
    "import os\n",
    "os.listdir(os.getcwd())\n",
    "\n",
    "import json as json\n",
    "import pickle as pickle\n",
    "\n",
    "import peaks\n",
    "\n",
    "\n",
    "def error(img1, img2):\n",
    "   diff = cv2.subtract(img1, img2)\n",
    "   err = np.sum(diff**2)\n",
    "   mse = err/(float(h*w))\n",
    "   msre = np.sqrt(mse)\n",
    "   return mse, diff\n"
   ]
  },
  {
   "cell_type": "code",
   "execution_count": 5,
   "metadata": {},
   "outputs": [
    {
     "name": "stdout",
     "output_type": "stream",
     "text": [
      "fly dir: fly1\n",
      "jpeg path E:/bruker_vid_2023/20230623/analysis/fly1\n",
      "sorted ['V01-frame_0000001.jpg', 'V01-frame_0000002.jpg', 'V01-frame_0000003.jpg', 'V01-frame_0000004.jpg', 'V01-frame_0000005.jpg']\n",
      "(170137, 25)\n",
      "(170137, 25)\n",
      "(170136, 25)\n",
      "(array([6444, 9129], dtype=int64),)\n",
      "fly dir: fly2\n",
      "jpeg path E:/bruker_vid_2023/20230623/analysis/fly2\n",
      "sorted ['V02-frame_0000001.jpg', 'V02-frame_0000002.jpg', 'V02-frame_0000003.jpg', 'V02-frame_0000004.jpg', 'V02-frame_0000005.jpg']\n",
      "(34600, 25)\n",
      "(34600, 25)\n",
      "(34599, 25)\n",
      "(array([30204, 34453], dtype=int64),)\n"
     ]
    }
   ],
   "source": [
    "## get jpeg files \n",
    "\n",
    "date = '20230623'\n",
    "\n",
    "raw_path = \"E:/bruker_vid_2023/\" + str(date) + \"/analysis/\"  ##JPEGS AND ROIS MUST BE SAVED IN SEPERATE ANALYSIS FOLDER\n",
    "\n",
    "\n",
    "number_of_pixels = 25\n",
    "\n",
    "all_fly_sums = []\n",
    "for fly_dir in os.listdir(raw_path):\n",
    "    dir_number = peaks.find_number(peaks.find_fly_string(fly_dir), dash = 'y')\n",
    "    #print('fly dir number:', dir_number)\n",
    "    if len(dir_number) == 0:\n",
    "        raise Exception(f\"ERROR: THERE IS NO DIRECTORY NUMBER FOR...{fly_dir}\")\n",
    "    if '.zip' not in fly_dir and '.txt' not in fly_dir and 'Roi' not in fly_dir:\n",
    "        print('fly dir:', fly_dir)\n",
    "        jpeg_path = os.path.join(raw_path, fly_dir)\n",
    "        print('jpeg path', jpeg_path)\n",
    "\n",
    "        if os.path.exists(jpeg_path):\n",
    "            jpeg_file_names = os.listdir(jpeg_path)\n",
    "            sorted_jpeg_file_names = sorted(jpeg_file_names)\n",
    "            ##just verification that sorting process works ok\n",
    "            print('sorted', sorted_jpeg_file_names[0:5])\n",
    "\n",
    "            \n",
    "            all_pts = []\n",
    "            first_frame = os.path.join(jpeg_path, sorted_jpeg_file_names[0])\n",
    "            img1 = cv2.imread(first_frame)\n",
    "            img1 = cv2.cvtColor(img1, cv2.COLOR_BGR2GRAY)\n",
    "            x, y = img1.shape\n",
    "            random_x = np.random.randint(0,x, size = number_of_pixels)\n",
    "            random_y = np.random.randint(0,y, size = number_of_pixels)\n",
    "            for i in range(len(sorted_jpeg_file_names)):\n",
    "                first_frame = os.path.join(jpeg_path, sorted_jpeg_file_names[i])\n",
    "                img1 = cv2.imread(first_frame)\n",
    "                img1 = cv2.cvtColor(img1, cv2.COLOR_BGR2GRAY)\n",
    "\n",
    "                ##get random pixels\n",
    "                pts = img1[random_x, random_y]\n",
    "                all_pts.append(pts)\n",
    "\n",
    "            print(np.shape(all_pts))\n",
    "            print(np.shape(all_pts))\n",
    "            pts_diff = np.diff(all_pts, axis = 0)\n",
    "\n",
    "            print(np.shape(pts_diff))\n",
    "            sum = np.sum(pts_diff, axis = 1)\n",
    "            print(np.where(sum == 0))\n",
    "            all_fly_sums.append(sum)\n",
    "\n",
    "\n",
    "\n",
    "            # ## actual testing to see if one frame and the next are identical\n",
    "            # for i in range(len(sorted_jpeg_file_names)-1):\n",
    "            #     first_frame = os.path.join(jpeg_path, sorted_jpeg_file_names[i])\n",
    "            #     second_frame = os.path.join(jpeg_path, sorted_jpeg_file_names[i+1])\n",
    "            #     img1 = cv2.imread(first_frame)\n",
    "            #     img1 = cv2.cvtColor(img1, cv2.COLOR_BGR2GRAY)\n",
    "            #     h, w = img1.shape\n",
    "            #     img2 = cv2.imread(second_frame)\n",
    "            #     img2 = cv2.cvtColor(img2, cv2.COLOR_BGR2GRAY)\n",
    "\n",
    "            #     match_error12, diff12 = error(img1, img2)\n",
    "            #     if match_error12 < 0.1:\n",
    "            #         print(f'frame {first_frame} and frame {second_frame} match')\n",
    "            #         print(f'error value = {match_error12}')  #if identical this will be == 0"
   ]
  },
  {
   "cell_type": "code",
   "execution_count": 13,
   "metadata": {},
   "outputs": [
    {
     "name": "stdout",
     "output_type": "stream",
     "text": [
      "2\n",
      "(2, 30)\n",
      "(array([], dtype=int64),)\n",
      "(2, 30)\n",
      "(array([], dtype=int64),)\n"
     ]
    }
   ],
   "source": [
    "##more thorough comparison of the frames in question\n",
    "\n",
    "print(len(all_fly_sums))\n",
    "for fly_i in range(len(all_fly_sums)):\n",
    "    zero_frames = np.where(all_fly_sums[fly_i] == 0)[0]\n",
    "    number_of_pixels = 30\n",
    "    all_pts = []\n",
    "    all_diff = []\n",
    "    random_x = np.random.randint(0,x, size = number_of_pixels)\n",
    "    random_y = np.random.randint(0,y, size = number_of_pixels)\n",
    "    for i in zero_frames:\n",
    "        fly_dir = 'fly' + str(fly_i + 1)\n",
    "        jpeg_path = os.path.join(raw_path, fly_dir)\n",
    "        #print('jpeg path', jpeg_path)\n",
    "\n",
    "        \n",
    "        jpeg_file_names = os.listdir(jpeg_path)\n",
    "        sorted_jpeg_file_names = sorted(jpeg_file_names)\n",
    "\n",
    "        first_frame = os.path.join(jpeg_path, sorted_jpeg_file_names[i])\n",
    "        next_frame = os.path.join(jpeg_path, sorted_jpeg_file_names[i + 1])\n",
    "        img1 = cv2.imread(first_frame)\n",
    "        img1 = cv2.cvtColor(img1, cv2.COLOR_BGR2GRAY)\n",
    "        img2 = cv2.imread(next_frame)\n",
    "        img2 = cv2.cvtColor(img2, cv2.COLOR_BGR2GRAY)\n",
    "        x, y = img1.shape\n",
    "\n",
    "        ##get random pixels\n",
    "        pts1 = img1[random_x, random_y]\n",
    "        pts2 = img2[random_x, random_y]\n",
    "        all_pts.append(pts1)\n",
    "        all_pts.append(pts2)\n",
    "        diff = pts1 - pts2\n",
    "        all_diff.append(diff)\n",
    "\n",
    "    #print(all_diff)\n",
    "    print(np.shape(all_diff))\n",
    "    zero_sum = np.sum(all_diff, axis = 1)\n",
    "    print(np.where(zero_sum == 0))"
   ]
  },
  {
   "cell_type": "code",
   "execution_count": 12,
   "metadata": {},
   "outputs": [
    {
     "name": "stdout",
     "output_type": "stream",
     "text": [
      "[6444 9129]\n"
     ]
    },
    {
     "ename": "TypeError",
     "evalue": "only integer scalar arrays can be converted to a scalar index",
     "output_type": "error",
     "traceback": [
      "\u001b[1;31m---------------------------------------------------------------------------\u001b[0m",
      "\u001b[1;31mTypeError\u001b[0m                                 Traceback (most recent call last)",
      "Cell \u001b[1;32mIn[12], line 2\u001b[0m\n\u001b[0;32m      1\u001b[0m \u001b[39mprint\u001b[39m(i)\n\u001b[1;32m----> 2\u001b[0m \u001b[39mprint\u001b[39m(sorted_jpeg_file_names[i])\n",
      "\u001b[1;31mTypeError\u001b[0m: only integer scalar arrays can be converted to a scalar index"
     ]
    }
   ],
   "source": [
    "print(i)\n",
    "print(sorted_jpeg_file_names[i])\n"
   ]
  }
 ],
 "metadata": {
  "kernelspec": {
   "display_name": "Python 3",
   "language": "python",
   "name": "python3"
  },
  "language_info": {
   "codemirror_mode": {
    "name": "ipython",
    "version": 3
   },
   "file_extension": ".py",
   "mimetype": "text/x-python",
   "name": "python",
   "nbconvert_exporter": "python",
   "pygments_lexer": "ipython3",
   "version": "3.11.1"
  },
  "orig_nbformat": 4
 },
 "nbformat": 4,
 "nbformat_minor": 2
}
