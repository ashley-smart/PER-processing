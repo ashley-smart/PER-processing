{
 "cells": [
  {
   "cell_type": "code",
   "execution_count": 27,
   "metadata": {},
   "outputs": [
    {
     "name": "stdout",
     "output_type": "stream",
     "text": [
      "not dlc ['20230616_fly_number_1_.h5', '20230616_fly_number_2_.h5', '20230616_fly_number_3_.h5', '20230616_fly_number_4_.h5']\n",
      "E:/bruker_vid_2023/20230616/results/h5_files/20230616_fly_number_2_.h5\n"
     ]
    }
   ],
   "source": [
    "## testing PER_beahvior\n",
    "\n",
    "## rewriting scipy peaks with a library\n",
    "\n",
    "\n",
    "# import stuff\n",
    "import peaks #my library\n",
    "\n",
    "import numpy as np\n",
    "from matplotlib import pyplot as plt\n",
    "from pprint import pprint\n",
    "import os\n",
    "os.listdir(os.getcwd())\n",
    "import csv as csv\n",
    "import json as json\n",
    "import scipy as scipy\n",
    "from scipy.signal import find_peaks\n",
    "import h5py\n",
    "\n",
    "\n",
    "##### get paths ##########\n",
    "date = '20230616'\n",
    "fly_id_date_code = f'b-{date[-4:]}' ##'b-0407'\n",
    "\n",
    "#Path = 'G:/bruker vid 2023/20230407/results/'  #path to results files from read ROIs or DLC\n",
    "Path = f'E:/bruker_vid_2023/{date}/results/'  #path to results files from read ROIs or DLC\n",
    "\n",
    "SavePath = Path + 'h5_files/'\n",
    "peaks.make_dirs(SavePath)\n",
    "\n",
    "\n",
    "####   mostly static variables  ########\n",
    "data_reducer = 100\n",
    "voltage_framerate = 10000/data_reducer #frames/s # 1frame/.1ms * 1000ms/1s = 10000f/s\n",
    "#with reducer i get 1 frame for every .1 * 100 ms => frame/.1*100 ms * 1000ms/s = 100f/s\n",
    "#each \"frame\" is 0.1ms\n",
    "video_framerate = 200 #f/s\n",
    "video_framerate = 38.02\n",
    "#video_framerate_downstairs = 33\n",
    "\n",
    "video_framerate = 38.02\n",
    "h5files = [file for file in os.listdir(SavePath) if '.h5' in file]\n",
    "print('not dlc', h5files)\n",
    "dlc_h5_file = \"C:/Users/ashsm/Documents/Stanford/bruker behavior/h5files_dlc/20230616_fly2_dlc.h5\"\n",
    "roi_h5_file = os.path.join(SavePath, '20230616_fly_number_2_.h5')\n",
    "print(roi_h5_file)\n",
    "\n",
    "voltage_path = \"C:/Users/ashsm/Documents/Stanford/bruker behavior/voltage/20230616/\"\n",
    "voltage_file = \"C:/Users/ashsm/Documents/Stanford/bruker behavior/voltage/20230616/fly2_func-001_Cycle00001_VoltageRecording_001.csv\""
   ]
  },
  {
   "cell_type": "code",
   "execution_count": null,
   "metadata": {},
   "outputs": [],
   "source": [
    "\n",
    "\n",
    "\n",
    "\n",
    "\n",
    "#\n",
    "\n",
    "files = os.listdir(Path)\n",
    "voltage_files = peaks.check_for_voltage_file(voltage_path)\n",
    "print(voltage_files)\n",
    "roi_files = peaks.check_for_results_file(Path)\n",
    "\n",
    "#look at voltage and roi files and add data to h5 file based on fly#\n",
    "# if roi_files is not None:\n",
    "#     for roi_file in roi_files:\n",
    "#         fly_number = peaks.find_fly_number(roi_file)\n",
    "#         h5_filename = f'{date}_fly_number_{fly_number}_.h5'\n",
    "#         h5_Path = os.path.join(SavePath, h5_filename)\n",
    "#         data = peaks.import_roi_results(os.path.join(Path, roi_file))\n",
    "#         peaks.add_to_h5(h5_Path, 'roi data', data)\n",
    "#         if peaks.check_for_key(h5_Path, 'fly-id') == False:\n",
    "#             fly_id = f'{fly_id_date_code}-{fly_number}'\n",
    "#             peaks.add_to_h5(h5_Path, 'fly-id', fly_id)\n",
    "        \n",
    "\n",
    "if voltage_files is not None:\n",
    "    for voltage_file in voltage_files:\n",
    "        fly_number = peaks.find_fly_number(voltage_file)\n",
    "        h5_filename = f'{date}_fly_number_{fly_number}_.h5'\n",
    "        print(f'found voltage file {voltage_file} for fly {fly_number}')\n",
    "        h5_Path = os.path.join(SavePath, h5_filename)\n",
    "        data = peaks.import_voltage_data(os.path.join(voltage_path, voltage_file))\n",
    "        #peaks.add_to_h5(h5_Path, 'voltage data', data)\n",
    "        titles = peaks.get_mean_titles(data)\n",
    "        print(titles)\n",
    "        print(type(titles))\n",
    "        with h5py.File(h5_Path, 'a') as f:\n",
    "            dt = h5py.special_dtype(vlen=str)\n",
    "            if 'voltage_header' in f.keys():\n",
    "                del f['voltage_header']\n",
    "            new_titles = [title.encode('utf-8', 'surrogateescape') for title in titles[0][0]]\n",
    "            dset = f.create_dataset('voltage_header', len(titles[0][0]), dtype=dt, data = new_titles)\n",
    "            if 'voltage data st' in f.keys():\n",
    "                del f['voltage data st']\n",
    "            dset = f.create_dataset('voltage data st', np.shape(data), dtype=dt, data = data)\n",
    "            \n",
    "\n",
    "            #f.attrs[\"voltage header\"] = titles[0][0]\n",
    "        #peaks.add_to_h5(h5_Path, 'voltage header', titles[0][0])\n",
    "        if peaks.check_for_key(h5_Path, 'fly-id') == False:\n",
    "            fly_id = f'{fly_id_date_code}-{fly_number}'\n",
    "            peaks.add_to_h5(h5_Path, 'fly-id', fly_id)\n",
    "\n",
    "\n",
    "#set framerate\n",
    " # **!!  change so code just asks is voltage framerate or video framerate needed\n",
    "\n",
    "\n",
    "#set interval time\n",
    "##since most of my experiments are switch do I need this?\n",
    "interval_time = None ##decide if I should change this later\n",
    "\n",
    "#set fly numbers \n",
    "# #(should be set when import data)\n",
    "\n",
    "\n",
    "#get peaks for light and PER\n",
    "##look at every flies h5 file and open and run peaks \n",
    "#    (note: some light data may be in roi file)\n",
    "#  if there is more than one mean in the data then it will return a list of list of peaks for each mean\n",
    "\n",
    "##make plots\n",
    "\n",
    "#smooth PER peaks \n",
    "\n",
    "#find onset of PER peaks\n",
    "#find indiv\n",
    "\n",
    "#"
   ]
  },
  {
   "cell_type": "markdown",
   "metadata": {},
   "source": [
    "info on attributes\n",
    "Attributes work just like groups and datasets. Use object.attrs.keys() to iterate over the attribute names. The object could be a file, group or dataset.\n",
    "\n",
    "Here is a simple example that creates 2 attributes on 3 different objects, then reads and prints them.\n",
    "\n",
    "arr = np.random.randn(1000)\n",
    "\n",
    "with h5py.File('groups.hdf5', 'w') as f:\n",
    "    g = f.create_group('Base_Group')\n",
    "    d = g.create_dataset('default', data=arr)\n",
    "\n",
    "    f.attrs['User'] = 'Me'\n",
    "    f.attrs['OS'] = 'Windows'\n",
    "\n",
    "    g.attrs['Date'] = 'today'\n",
    "    g.attrs['Time'] = 'now'\n",
    "\n",
    "    d.attrs['attr1'] = 1.0\n",
    "    d.attrs['attr2'] = 22.2\n",
    "    \n",
    "    for k in f.attrs.keys():\n",
    "        print(f\"{k} => {f.attrs[k]}\")\n",
    "    for k in g.attrs.keys():\n",
    "        print(f\"{k} => {g.attrs[k]}\")\n",
    "    for k in d.attrs.keys():\n",
    "        print(f\"{k} => {d.attrs[k]}\")\n",
    "\n",
    "    print('*****')\n",
    "    \n",
    "    for k in f.attrs.keys():\n",
    "        print(f\"{k} => {f.attrs[k]}\")\n",
    "    for k in f['Base_Group'].attrs.keys():\n",
    "        print(f\"{k} => {f['Base_Group'].attrs[k]}\")\n",
    "    for k in f['Base_Group']['default'].attrs.keys():\n",
    "        print(f\"{k} => {f['Base_Group']['default'].attrs[k]}\")"
   ]
  },
  {
   "cell_type": "code",
   "execution_count": null,
   "metadata": {},
   "outputs": [],
   "source": [
    "print(np.shape(titles))\n",
    "print(titles[0][0])"
   ]
  },
  {
   "cell_type": "code",
   "execution_count": null,
   "metadata": {},
   "outputs": [],
   "source": [
    "##cureently trying to import voltage to sort out framerate\n",
    "##then see if flies respond to light ok\n",
    "##see if I can get light times from voltage data--running voltage peaks"
   ]
  },
  {
   "cell_type": "code",
   "execution_count": 26,
   "metadata": {},
   "outputs": [
    {
     "name": "stdout",
     "output_type": "stream",
     "text": [
      "E:/bruker_vid_2023/20230616/results/h5_files/20230616_fly_number_1_.h5\n",
      "<KeysViewHDF5 ['PER peaks', 'PER peaks sec', 'fly-id', 'voltage data', 'voltage data st', 'voltage_header']>\n",
      "b'b-0616-1'\n",
      "E:/bruker_vid_2023/20230616/results/h5_files/20230616_fly_number_2_.h5\n",
      "<KeysViewHDF5 ['PER peaks', 'PER peaks sec', 'fly-id', 'roi data', 'roi peak left bases', 'roi peak prominences', 'video framerate', 'voltage data', 'voltage data st', 'voltage_header']>\n",
      "b'b-0616-2'\n",
      "True\n",
      "(200652, 1)\n",
      "titles are [array([b'Mean(PER_fly2)'], dtype='|S14')]\n",
      "mean titles are b'Mean(PER_fly2)'\n",
      "PER\n",
      "(1, 5181)\n"
     ]
    },
    {
     "data": {
      "image/png": "[encoded data removed]",
      "text/plain": [
       "<Figure size 640x480 with 1 Axes>"
      ]
     },
     "metadata": {},
     "output_type": "display_data"
    },
    {
     "name": "stdout",
     "output_type": "stream",
     "text": [
      "E:/bruker_vid_2023/20230616/results/h5_files/20230616_fly_number_3_.h5\n",
      "<KeysViewHDF5 ['PER peaks', 'PER peaks sec', 'fly-id', 'roi data', 'roi peak left bases', 'roi peak prominences', 'video framerate', 'voltage data', 'voltage data st', 'voltage_header']>\n",
      "b'b-0616-3'\n",
      "True\n",
      "(69081, 1)\n",
      "titles are [array([b'Mean(PER_fly3)'], dtype='|S14')]\n",
      "mean titles are b'Mean(PER_fly3)'\n",
      "PER\n",
      "(1, 2465)\n"
     ]
    },
    {
     "data": {
      "image/png": "[encoded data removed]",
      "text/plain": [
       "<Figure size 640x480 with 1 Axes>"
      ]
     },
     "metadata": {},
     "output_type": "display_data"
    },
    {
     "name": "stdout",
     "output_type": "stream",
     "text": [
      "E:/bruker_vid_2023/20230616/results/h5_files/20230616_fly_number_4_.h5\n",
      "<KeysViewHDF5 ['PER peaks', 'PER peaks sec', 'fly-id', 'roi data', 'roi peak left bases', 'roi peak prominences', 'video framerate', 'voltage data', 'voltage data st', 'voltage framerate', 'voltage peak left bases', 'voltage peak prominences', 'voltage_header']>\n",
      "b'b-0616-4'\n",
      "True\n",
      "(182080, 1)\n",
      "titles are [array([b'Mean(PER_fly4)'], dtype='|S14')]\n",
      "mean titles are b'Mean(PER_fly4)'\n",
      "PER\n",
      "(1, 5201)\n"
     ]
    },
    {
     "data": {
      "image/png": "[encoded data removed]",
      "text/plain": [
       "<Figure size 640x480 with 1 Axes>"
      ]
     },
     "metadata": {},
     "output_type": "display_data"
    }
   ],
   "source": [
    "video_framerate = 38.02\n",
    "h5files = [file for file in os.listdir(SavePath) if '.h5' in file]\n",
    "\n",
    "for fly in h5files:\n",
    "    each_path = os.path.join(SavePath, fly)\n",
    "    print(each_path)\n",
    "    with h5py.File(each_path, 'a') as f:\n",
    "        print(f.keys())\n",
    "        print(f['fly-id'][()])\n",
    "        if 'roi data' in f.keys():\n",
    "            roi_data = f['roi data'][()]\n",
    "            # print(roi_data[0:10])\n",
    "            # print(roi_data[0][0])\n",
    "            if 'Mean' in str(roi_data[0][0]):\n",
    "                print(True)\n",
    "            #print(peaks.is_column_mean(roi_data, 0, 0))\n",
    "            print(np.shape(roi_data))\n",
    "            data_peaks, properties, columns = peaks.get_peaks(roi_data, each_path, video_framerate, prominence = 10)\n",
    "            print(np.shape(data_peaks))\n",
    "            # print(properties)\n",
    "            # print(properties['left_bases'])\n",
    "            peaks.add_to_h5(each_path, 'roi peak left bases', properties['left_bases'])\n",
    "            plt.scatter(data_peaks[0], np.ones(len(data_peaks[0])))\n",
    "            plt.plot(columns)\n",
    "            plt.show()\n",
    "        if 'voltage data' in f.keys():\n",
    "            voltage_data = f['voltage data'][()]\n",
    "            voltage_header = f['voltage_header'][()]\n",
    "            voltage_data_st = f['voltage data st'][()]\n",
    "            #voltage_path = \n",
    "            #voltage_peaks, voltage_properties, voltage_columns = peaks.get_peaks(voltage_data, each_path, voltage_framerate)\n"
   ]
  },
  {
   "cell_type": "code",
   "execution_count": 23,
   "metadata": {},
   "outputs": [
    {
     "name": "stdout",
     "output_type": "stream",
     "text": [
      "[array([    55,     82,    136, ..., 181749, 181778, 181936], dtype=int64)]\n"
     ]
    }
   ],
   "source": [
    "print(data_peaks)"
   ]
  },
  {
   "cell_type": "code",
   "execution_count": 13,
   "metadata": {},
   "outputs": [
    {
     "name": "stdout",
     "output_type": "stream",
     "text": [
      "['fly1_func-001_Cycle00001_VoltageRecording_001.csv', 'fly2_func-001_Cycle00001_VoltageRecording_001.csv', 'fly2_light_peaks.h5', 'fly3_func-003_Cycle00001_VoltageRecording_001.csv', 'fly4_func-000_Cycle00001_VoltageRecording_001.csv', 'fly4_light_peaks.h5']\n",
      "<KeysViewHDF5 ['light peaks ms']>\n"
     ]
    }
   ],
   "source": [
    "print(os.listdir(voltage_path))\n",
    "light_peaks_file = os.path.join(voltage_path, 'fly2_light_peaks.h5')\n",
    "\n",
    "with h5py.File(light_peaks_file, 'r') as f:\n",
    "    print(f.keys())\n",
    "    light_peaks_ms = f['light peaks ms'][()]\n"
   ]
  },
  {
   "cell_type": "code",
   "execution_count": null,
   "metadata": {},
   "outputs": [],
   "source": []
  },
  {
   "cell_type": "code",
   "execution_count": null,
   "metadata": {},
   "outputs": [],
   "source": [
    "print(len(mean_titles[0][0]))\n",
    "for i in mean_titles[0][0]:\n",
    "    if \"Input 0\" in str(i):\n",
    "        print(f'yes{i}')\n",
    "\n",
    "#single = peaks.get_means(voltage_data, mean_indices)\n",
    "print(peaks.is_column_in_list(str(voltage_data), 0, 0, 'Input 0'))\n",
    "print(str(voltage_data[0][0]))\n",
    "print(single)"
   ]
  },
  {
   "cell_type": "code",
   "execution_count": 28,
   "metadata": {},
   "outputs": [
    {
     "name": "stdout",
     "output_type": "stream",
     "text": [
      "C:/Users/ashsm/Documents/Stanford/bruker behavior/h5files_dlc/20230616_fly2_dlc.h5\n",
      "E:/bruker_vid_2023/20230616/results/h5_files/20230616_fly_number_2_.h5\n",
      "['20230616_fly_number_1_.h5', '20230616_fly_number_2_.h5', '20230616_fly_number_3_.h5', '20230616_fly_number_4_.h5']\n",
      "<KeysViewHDF5 ['DLC peaks unfiltered', 'difference', 'extend_likelihood', 'extend_x', 'extend_y', 'extension difference', 'head_likelihood', 'head_x', 'head_y', 'median and std filtered DLC peaks', 'median filtered DLC peaks', 'neck difference', 'neck_likelihood', 'neck_x', 'neck_y', 'proboscis_likelihood', 'proboscis_x', 'proboscis_y']>\n",
      "<KeysViewHDF5 ['PER peaks', 'PER peaks sec', 'fly-id', 'roi data', 'roi peak left bases', 'roi peak prominences', 'video framerate', 'voltage data', 'voltage data st', 'voltage_header']>\n"
     ]
    },
    {
     "data": {
      "image/png": "[encoded data removed]",
      "text/plain": [
       "<Figure size 640x480 with 1 Axes>"
      ]
     },
     "metadata": {},
     "output_type": "display_data"
    },
    {
     "name": "stdout",
     "output_type": "stream",
     "text": [
      "[b'Time(ms)' b' Input 0' b' per_cam_trigger']\n"
     ]
    }
   ],
   "source": [
    "print(dlc_h5_file)\n",
    "print(roi_h5_file)\n",
    "print(os.listdir(SavePath))\n",
    "\n",
    "with h5py.File(dlc_h5_file, 'a') as f:\n",
    "        print(f.keys())\n",
    "        dlc_filtered_peaks = f['median and std filtered DLC peaks'][()]\n",
    "\n",
    "with h5py.File(roi_h5_file, 'a') as f:\n",
    "        print(f.keys())\n",
    "        roi_peaks = f['PER peaks'][()]\n",
    "        roi_peaks_s = f['PER peaks sec'][()]\n",
    "        voltage_data = f['voltage data'][()]\n",
    "        voltage_header = f['voltage_header'][()]\n",
    "        #onsets = f[]\n",
    "\n",
    "plt.scatter(dlc_filtered_peaks, np.ones(len(dlc_filtered_peaks)))\n",
    "plt.scatter(roi_peaks, np.ones(len(roi_peaks))*2)\n",
    "plt.show()\n",
    "print(voltage_header)"
   ]
  },
  {
   "cell_type": "code",
   "execution_count": null,
   "metadata": {},
   "outputs": [],
   "source": [
    "print(voltage_data)\n",
    "\n",
    "voltage_peaks, voltage_properties, voltage_columns = peaks.get_peaks(voltage_data, roi_h5_file, voltage_framerate)\n",
    "\n",
    "### why isn't it running light peaks?"
   ]
  },
  {
   "cell_type": "code",
   "execution_count": null,
   "metadata": {},
   "outputs": [],
   "source": [
    "with h5py.File(roi_h5_file, 'a') as f:\n",
    "    print(f.keys())"
   ]
  },
  {
   "cell_type": "code",
   "execution_count": 25,
   "metadata": {},
   "outputs": [
    {
     "data": {
      "image/png": "[encoded data removed]",
      "text/plain": [
       "<Figure size 640x480 with 1 Axes>"
      ]
     },
     "metadata": {},
     "output_type": "display_data"
    },
    {
     "name": "stdout",
     "output_type": "stream",
     "text": [
      "s []\n",
      "[]\n",
      "0\n",
      "270\n",
      "[ 14961  21125  22036  23730  25017  25657  26965  28536  29169  29198\n",
      "  32648  33457  34097  34173  36392  36410  36444  37105  38352  39580\n",
      "  40333  41208  42418  42819  44402  45519  46565  46597  48282  48744\n",
      "  48758  48945  50545  50580  50610  52474  52499  54599  54639  55104\n",
      "  56232  56464  56548  56991  58586  58599  60004  60445  60734  62327\n",
      "  62618  62633  64053  64729  65364  66488  66710  67496  68638  68734\n",
      "  70614  70628  70758  70789  71588  71687  72336  72727  73347  74708\n",
      "  74831  74914  75025  75104  75692  75727  75756  75789  75890  76722\n",
      "  76755  77737  77756  77791  78703  78784  78818  78842  79718  79870\n",
      "  81843  81858  81886  82768  83015  83843  83881  84838  84867  84891\n",
      "  85858  86080  86971  87390  87899  87936  88608  88866  89075  89883\n",
      "  90110  90350  90982  91010  91477  91856  91915  92068  92509  92932\n",
      "  93131  93707  93949  94198  94269  95048  96988  98303  98929  99074\n",
      "  99137 101108 102074 102295 103074 103144 103175 105134 105294 105320\n",
      " 106023 107130 107231 107504 108080 109189 109317 111186 113255 113267\n",
      " 113296 115241 115377 115391 115412 117366 118885 119322 119515 119549\n",
      " 121376 121485 121502 123399 123422 123450 124120 125438 125467 127422\n",
      " 127549 129127 129544 130397 131263 131487 132622 133116 133541 133560\n",
      " 135560 136535 137608 138610 138642 139212 139584 139846 140600 141652\n",
      " 141679 141960 142695 143649 144912 145682 145967 146165 146365 146621\n",
      " 146783 147715 147738 148731 148822 149795 150332 150764 150903 151819\n",
      " 151839 152842 153813 154830 155676 155871 155933 157873 159900 159965\n",
      " 161928 162807 164748 165984 166053 168012 170040 171333 171526 174095\n",
      " 176122 178151 181424 182264 183029 184235 184503 186264 188218 188291\n",
      " 189323 189430 189789 190320 190781 191836 191912 191993 192089 192149\n",
      " 192205 192254 192394 192516 192574 192610 192693 192793 192899 193052\n",
      " 193147 193315 193410 194374 196402 197420 197479 198436 199452 200469]\n",
      "[]\n"
     ]
    }
   ],
   "source": [
    "#plt.scatter(dlc_filtered_peaks, np.ones(len(dlc_filtered_peaks)))\n",
    "plt.scatter(roi_peaks_s, np.ones(len(roi_peaks))*2)\n",
    "plt.scatter(light_peaks_ms/1000, np.ones(len(light_peaks_ms)), color = 'red')\n",
    "#plt.xlim(20000,25000)\n",
    "plt.show()\n",
    "print('s', roi_peaks_s)\n",
    "print(roi_peaks)\n",
    "print(len(roi_peaks))\n",
    "print(len(dlc_filtered_peaks))\n",
    "print(dlc_filtered_peaks)\n",
    "print(roi_peaks_s)"
   ]
  },
  {
   "cell_type": "code",
   "execution_count": null,
   "metadata": {},
   "outputs": [],
   "source": [
    "for fly in h5files:\n",
    "    each_path = os.path.join(SavePath, fly)\n",
    "    with h5py.File(each_path, 'a') as f:\n",
    "        print(f.keys())\n",
    "        print(f['fly-id'][()])\n",
    "        #print(f['roi data'][()])\n",
    "        print(f['PER peaks'][()])"
   ]
  },
  {
   "cell_type": "code",
   "execution_count": 9,
   "metadata": {},
   "outputs": [
    {
     "ename": "NameError",
     "evalue": "name 'data_peaks' is not defined",
     "output_type": "error",
     "traceback": [
      "\u001b[1;31m---------------------------------------------------------------------------\u001b[0m",
      "\u001b[1;31mNameError\u001b[0m                                 Traceback (most recent call last)",
      "Cell \u001b[1;32mIn[9], line 5\u001b[0m\n\u001b[0;32m      2\u001b[0m framerate \u001b[39m=\u001b[39m \u001b[39m38.02\u001b[39m\n\u001b[0;32m      4\u001b[0m \u001b[39m## get peaks per second rather than frames\u001b[39;00m\n\u001b[1;32m----> 5\u001b[0m data_peaks_sec \u001b[39m=\u001b[39m np\u001b[39m.\u001b[39marray(data_peaks) \u001b[39m/\u001b[39m video_framerate \u001b[39m##rois will always be retrieved from video\u001b[39;00m\n\u001b[0;32m      6\u001b[0m \u001b[39m#voltage_peaks_sec = np.array(voltage_peaks) / voltage_framerate #voltage will always have the same framerate\u001b[39;00m\n\u001b[0;32m      7\u001b[0m \n\u001b[0;32m      8\u001b[0m \u001b[39m#plt.plot(data_peaks_sec[0])\u001b[39;00m\n\u001b[0;32m      9\u001b[0m plt\u001b[39m.\u001b[39mscatter(data_peaks_sec[\u001b[39m0\u001b[39m], np\u001b[39m.\u001b[39mones(\u001b[39mlen\u001b[39m(data_peaks_sec[\u001b[39m0\u001b[39m])))\n",
      "\u001b[1;31mNameError\u001b[0m: name 'data_peaks' is not defined"
     ]
    }
   ],
   "source": [
    "video_framerate = 38.02\n",
    "framerate = 38.02\n",
    "\n",
    "## get peaks per second rather than frames\n",
    "data_peaks_sec = np.array(data_peaks) / video_framerate ##rois will always be retrieved from video\n",
    "#voltage_peaks_sec = np.array(voltage_peaks) / voltage_framerate #voltage will always have the same framerate\n",
    "\n",
    "#plt.plot(data_peaks_sec[0])\n",
    "plt.scatter(data_peaks_sec[0], np.ones(len(data_peaks_sec[0])))\n",
    "plt.scatter(light_peaks_ms, np.ones(len(light_peaks_ms)))\n",
    "plt.xlim(500,600)\n",
    "plt.show()\n",
    "print(data_peaks_sec)\n",
    "print(np.shape(data_peaks_sec[0]))\n",
    "\n",
    "print(np.shape(columns))\n",
    "print(columns[0][0:10])\n",
    "print(len(columns[0]))\n",
    "plt.plot(columns[0][0:5000]/framerate)\n",
    "plt.scatter(data_peaks_sec[0][0:5000], np.ones(len(data_peaks_sec[0][0:5000]))*.5, color = 'orange', s = 2)\n",
    "plt.xlim(0,500)\n",
    "plt.show()\n",
    "\n",
    "\n",
    "# ##find peak onsets\n",
    "\n",
    "# PER_onsets_matrix_sec = get_onsets_matrix(PER_peaks_sec, data, PER_columns, identifier = 'PER')\n",
    "# light_onsets_matrix_sec = get_onsets_matrix(light_peaks_sec, light_data[data_index], light_columns, identifier = 'light')\n",
    "# light_onset_indices = light_peak_properties['left_bases']\n",
    "# PER_onset_indices = PER_peak_properties['left_bases']"
   ]
  },
  {
   "cell_type": "code",
   "execution_count": null,
   "metadata": {},
   "outputs": [],
   "source": [
    "## goal: import DLC behavior for 6-16 fly and compare to roi peaks\n",
    "## secondary goal: compare light flashes with voltage to see if I can sort out the framerate\n",
    "\n",
    "#DLC files"
   ]
  },
  {
   "cell_type": "code",
   "execution_count": 8,
   "metadata": {},
   "outputs": [
    {
     "name": "stdout",
     "output_type": "stream",
     "text": [
      "<KeysViewHDF5 ['PER peaks', 'PER peaks sec', 'fly-id', 'voltage data', 'voltage data st', 'voltage_header']>\n"
     ]
    },
    {
     "ename": "KeyError",
     "evalue": "\"Unable to open object (object 'roi peak left bases' doesn't exist)\"",
     "output_type": "error",
     "traceback": [
      "\u001b[1;31m---------------------------------------------------------------------------\u001b[0m",
      "\u001b[1;31mKeyError\u001b[0m                                  Traceback (most recent call last)",
      "Cell \u001b[1;32mIn[8], line 7\u001b[0m\n\u001b[0;32m      5\u001b[0m \u001b[39mwith\u001b[39;00m h5py\u001b[39m.\u001b[39mFile(each_path, \u001b[39m'\u001b[39m\u001b[39ma\u001b[39m\u001b[39m'\u001b[39m) \u001b[39mas\u001b[39;00m f:\n\u001b[0;32m      6\u001b[0m     \u001b[39mprint\u001b[39m(f\u001b[39m.\u001b[39mkeys())\n\u001b[1;32m----> 7\u001b[0m     onsets \u001b[39m=\u001b[39m np\u001b[39m.\u001b[39marray(f[\u001b[39m'\u001b[39;49m\u001b[39mroi peak left bases\u001b[39;49m\u001b[39m'\u001b[39;49m])\n\u001b[0;32m      8\u001b[0m     framerate \u001b[39m=\u001b[39m f[\u001b[39m'\u001b[39m\u001b[39mvideo framerate\u001b[39m\u001b[39m'\u001b[39m][()]\n\u001b[0;32m      9\u001b[0m     onsets_sec \u001b[39m=\u001b[39m onsets \u001b[39m/\u001b[39m framerate\n",
      "File \u001b[1;32mh5py\\_objects.pyx:54\u001b[0m, in \u001b[0;36mh5py._objects.with_phil.wrapper\u001b[1;34m()\u001b[0m\n",
      "File \u001b[1;32mh5py\\_objects.pyx:55\u001b[0m, in \u001b[0;36mh5py._objects.with_phil.wrapper\u001b[1;34m()\u001b[0m\n",
      "File \u001b[1;32mc:\\Users\\ashsm\\AppData\\Local\\Programs\\Python\\Python311\\Lib\\site-packages\\h5py\\_hl\\group.py:357\u001b[0m, in \u001b[0;36mGroup.__getitem__\u001b[1;34m(self, name)\u001b[0m\n\u001b[0;32m    355\u001b[0m         \u001b[39mraise\u001b[39;00m \u001b[39mValueError\u001b[39;00m(\u001b[39m\"\u001b[39m\u001b[39mInvalid HDF5 object reference\u001b[39m\u001b[39m\"\u001b[39m)\n\u001b[0;32m    356\u001b[0m \u001b[39melif\u001b[39;00m \u001b[39misinstance\u001b[39m(name, (\u001b[39mbytes\u001b[39m, \u001b[39mstr\u001b[39m)):\n\u001b[1;32m--> 357\u001b[0m     oid \u001b[39m=\u001b[39m h5o\u001b[39m.\u001b[39;49mopen(\u001b[39mself\u001b[39;49m\u001b[39m.\u001b[39;49mid, \u001b[39mself\u001b[39;49m\u001b[39m.\u001b[39;49m_e(name), lapl\u001b[39m=\u001b[39;49m\u001b[39mself\u001b[39;49m\u001b[39m.\u001b[39;49m_lapl)\n\u001b[0;32m    358\u001b[0m \u001b[39melse\u001b[39;00m:\n\u001b[0;32m    359\u001b[0m     \u001b[39mraise\u001b[39;00m \u001b[39mTypeError\u001b[39;00m(\u001b[39m\"\u001b[39m\u001b[39mAccessing a group is done with bytes or str, \u001b[39m\u001b[39m\"\u001b[39m\n\u001b[0;32m    360\u001b[0m                     \u001b[39m\"\u001b[39m\u001b[39mnot \u001b[39m\u001b[39m{}\u001b[39;00m\u001b[39m\"\u001b[39m\u001b[39m.\u001b[39mformat(\u001b[39mtype\u001b[39m(name)))\n",
      "File \u001b[1;32mh5py\\_objects.pyx:54\u001b[0m, in \u001b[0;36mh5py._objects.with_phil.wrapper\u001b[1;34m()\u001b[0m\n",
      "File \u001b[1;32mh5py\\_objects.pyx:55\u001b[0m, in \u001b[0;36mh5py._objects.with_phil.wrapper\u001b[1;34m()\u001b[0m\n",
      "File \u001b[1;32mh5py\\h5o.pyx:190\u001b[0m, in \u001b[0;36mh5py.h5o.open\u001b[1;34m()\u001b[0m\n",
      "\u001b[1;31mKeyError\u001b[0m: \"Unable to open object (object 'roi peak left bases' doesn't exist)\""
     ]
    }
   ],
   "source": [
    "h5files = [file for file in os.listdir(SavePath) if '.h5' in file]\n",
    "\n",
    "for fly in h5files:\n",
    "    each_path = os.path.join(SavePath, fly)\n",
    "    with h5py.File(each_path, 'a') as f:\n",
    "        print(f.keys())\n",
    "        onsets = np.array(f['roi peak left bases'])\n",
    "        framerate = f['video framerate'][()]\n",
    "        onsets_sec = onsets / framerate\n",
    "        plt.scatter(onsets_sec, np.ones(len(onsets_sec)))\n",
    "        data = f['roi data'][()]\n",
    "        print(type(data))\n",
    "        #data = np.frombuffer(data, dtype = np.float64)\n",
    "        print(np.shape(data))\n",
    "        plt.show()\n",
    "        plt.plot(range(len(data[1:,0]))* framerate, data[1:,0])\n",
    "        \n",
    "        #plt.plot(f['roi data'][0:200])\n",
    "        plt.title(f\"{f['fly-id'][()]} onsets\")\n",
    "        plt.xlim(0,200)\n",
    "        plt.show()\n",
    "        print(f['roi data'][0:500])\n",
    "        \n"
   ]
  },
  {
   "cell_type": "code",
   "execution_count": null,
   "metadata": {},
   "outputs": [],
   "source": [
    "# print(data)\n",
    "# plt.plot(data)\n",
    "print(np.shape(data))\n",
    "print(type(data))\n",
    "print(type(data[0]))\n",
    "print(data[0:10])\n",
    "plot_data = data[1:500,0]\n",
    "# print(type(data[1][0]))\n",
    "# print(data[1][0])\n",
    "plt.plot(range(len(plot_data))/framerate, plot_data)\n",
    "plt.plot()\n",
    "#print(data[1:,0])\n",
    "plt.show()"
   ]
  },
  {
   "cell_type": "code",
   "execution_count": null,
   "metadata": {},
   "outputs": [],
   "source": [
    "print(plot_data[0:50])\n",
    "print(plot_data[-50:-1])\n",
    "\n",
    "#plt.plot(plot_data[-50:-1])\n",
    "start = 300\n",
    "stop = 1000\n",
    "for point_i in range(len(plot_data[start:stop])):\n",
    "    point = plot_data[start:stop][point_i]\n",
    "    plt.scatter(point_i*framerate, point, s= 1, color = 'k')\n",
    "    "
   ]
  },
  {
   "cell_type": "code",
   "execution_count": null,
   "metadata": {},
   "outputs": [],
   "source": []
  }
 ],
 "metadata": {
  "kernelspec": {
   "display_name": "Python 3",
   "language": "python",
   "name": "python3"
  },
  "language_info": {
   "codemirror_mode": {
    "name": "ipython",
    "version": 3
   },
   "file_extension": ".py",
   "mimetype": "text/x-python",
   "name": "python",
   "nbconvert_exporter": "python",
   "pygments_lexer": "ipython3",
   "version": "3.11.1"
  },
  "orig_nbformat": 4
 },
 "nbformat": 4,
 "nbformat_minor": 2
}
